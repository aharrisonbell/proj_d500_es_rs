{
 "metadata": {
  "language_info": {
   "codemirror_mode": {
    "name": "ipython",
    "version": 3
   },
   "file_extension": ".py",
   "mimetype": "text/x-python",
   "name": "python",
   "nbconvert_exporter": "python",
   "pygments_lexer": "ipython3",
   "version": "3.7.8-final"
  },
  "orig_nbformat": 2,
  "kernelspec": {
   "name": "python_defaultSpec_1598903292171",
   "display_name": "Python 3.7.8 64-bit ('handson_ml': conda)"
  }
 },
 "nbformat": 4,
 "nbformat_minor": 2,
 "cells": [
  {
   "cell_type": "markdown",
   "metadata": {},
   "source": [
    "## D500 Behavioural analysis\n",
    "Version: 1.0 (Aug 30, 2020)\n",
    "by AHB\n",
    "\n",
    "1. Load Data\n",
    "2. Simple Data Summary (number of trials, % correct, etc.)\n",
    "3. Simple EDA of Data (e.g., % correct by condition, etc.)\n",
    "4. Model Behaviour (using Bayes / R-W)\n",
    "5. Pretty Pictures"
   ]
  },
  {
   "cell_type": "code",
   "execution_count": 1,
   "metadata": {
    "tags": []
   },
   "outputs": [],
   "source": [
    "# 0.0 - Import standard libraries and set up defaults\n",
    "import numpy as np\n",
    "import pandas as pd\n",
    "from scipy.io import loadmat\n",
    "import os\n",
    "\n",
    "datasets_folder = os.path.join('/Users','aharrisonbell','OneDrive - Nexus365','ephysProjects','D500_ES-RS_Study/')\n",
    "filename = os.path.join(datasets_folder,'DMS500_behavAnalysis.mat')"
   ]
  },
  {
   "cell_type": "code",
   "execution_count": 2,
   "metadata": {
    "tags": []
   },
   "outputs": [
    {
     "output_type": "stream",
     "name": "stdout",
     "text": "Loading d500 behavioural data...\n"
    },
    {
     "output_type": "display_data",
     "data": {
      "text/plain": "    MonkeyNum  SessNum  TrialNum  TrialOutcome  Block  Condition  \\\n0         1.0      1.0       1.0           6.0    1.0       25.0   \n1         1.0      1.0       3.0           6.0    1.0       15.0   \n2         1.0      1.0       4.0           6.0    1.0        8.0   \n3         1.0      1.0       5.0           6.0    1.0       11.0   \n4         1.0      1.0       6.0           6.0    1.0       29.0   \n5         1.0      1.0       7.0           6.0    1.0       26.0   \n6         1.0      1.0       8.0           0.0    1.0       26.0   \n7         1.0      1.0       9.0           0.0    1.0        2.0   \n8         1.0      1.0      10.0           6.0    1.0        9.0   \n9         1.0      1.0      11.0           0.0    1.0       30.0   \n10        1.0      1.0      12.0           0.0    1.0       32.0   \n11        1.0      1.0      13.0           6.0    1.0        4.0   \n12        1.0      1.0      14.0           6.0    1.0       27.0   \n13        1.0      1.0      15.0           6.0    1.0       22.0   \n14        1.0      1.0      16.0           6.0    1.0        3.0   \n15        1.0      1.0      17.0           0.0    1.0        6.0   \n16        1.0      1.0      18.0           6.0    1.0       18.0   \n17        1.0      1.0      19.0           0.0    1.0       20.0   \n18        1.0      1.0      20.0           6.0    1.0       29.0   \n19        1.0      1.0      22.0           6.0    1.0       18.0   \n\n    ReactionTime  1stStim  2ndStim  Expectation  Actual  Active  Right/Left  \\\n0          194.0      2.0      2.0          1.0     1.0     1.0         1.0   \n1          194.0      1.0      2.0          1.0     2.0     1.0         1.0   \n2          179.0      1.0      1.0          1.0     1.0     1.0        -1.0   \n3          215.0      1.0      1.0          1.0     1.0     1.0        -1.0   \n4          200.0      2.0      1.0          1.0     2.0     1.0        -1.0   \n5          228.0      2.0      2.0          1.0     1.0     1.0         1.0   \n6          183.0      2.0      2.0          1.0     1.0     1.0         1.0   \n7          172.0      1.0      1.0          1.0     1.0     1.0         1.0   \n8          198.0      1.0      1.0          1.0     1.0     1.0        -1.0   \n9          193.0      2.0      1.0          1.0     2.0     1.0        -1.0   \n10         187.0      2.0      1.0          1.0     2.0     1.0         1.0   \n11         186.0      1.0      1.0          1.0     1.0     1.0         1.0   \n12         189.0      2.0      2.0          1.0     1.0     1.0         1.0   \n13         185.0      2.0      2.0          1.0     1.0     1.0        -1.0   \n14         186.0      1.0      1.0          1.0     1.0     1.0         1.0   \n15         171.0      1.0      1.0          1.0     1.0     1.0         1.0   \n16         176.0      2.0      2.0          1.0     1.0     1.0        -1.0   \n17         195.0      2.0      2.0          1.0     1.0     1.0        -1.0   \n18         186.0      2.0      1.0          1.0     2.0     1.0        -1.0   \n19         188.0      2.0      2.0          1.0     1.0     1.0        -1.0   \n\n    TaskNum  \n0     500.0  \n1     500.0  \n2     500.0  \n3     500.0  \n4     500.0  \n5     500.0  \n6     500.0  \n7     500.0  \n8     500.0  \n9     500.0  \n10    500.0  \n11    500.0  \n12    500.0  \n13    500.0  \n14    500.0  \n15    500.0  \n16    500.0  \n17    500.0  \n18    500.0  \n19    500.0  ",
      "text/html": "<div>\n<style scoped>\n    .dataframe tbody tr th:only-of-type {\n        vertical-align: middle;\n    }\n\n    .dataframe tbody tr th {\n        vertical-align: top;\n    }\n\n    .dataframe thead th {\n        text-align: right;\n    }\n</style>\n<table border=\"1\" class=\"dataframe\">\n  <thead>\n    <tr style=\"text-align: right;\">\n      <th></th>\n      <th>MonkeyNum</th>\n      <th>SessNum</th>\n      <th>TrialNum</th>\n      <th>TrialOutcome</th>\n      <th>Block</th>\n      <th>Condition</th>\n      <th>ReactionTime</th>\n      <th>1stStim</th>\n      <th>2ndStim</th>\n      <th>Expectation</th>\n      <th>Actual</th>\n      <th>Active</th>\n      <th>Right/Left</th>\n      <th>TaskNum</th>\n    </tr>\n  </thead>\n  <tbody>\n    <tr>\n      <th>0</th>\n      <td>1.0</td>\n      <td>1.0</td>\n      <td>1.0</td>\n      <td>6.0</td>\n      <td>1.0</td>\n      <td>25.0</td>\n      <td>194.0</td>\n      <td>2.0</td>\n      <td>2.0</td>\n      <td>1.0</td>\n      <td>1.0</td>\n      <td>1.0</td>\n      <td>1.0</td>\n      <td>500.0</td>\n    </tr>\n    <tr>\n      <th>1</th>\n      <td>1.0</td>\n      <td>1.0</td>\n      <td>3.0</td>\n      <td>6.0</td>\n      <td>1.0</td>\n      <td>15.0</td>\n      <td>194.0</td>\n      <td>1.0</td>\n      <td>2.0</td>\n      <td>1.0</td>\n      <td>2.0</td>\n      <td>1.0</td>\n      <td>1.0</td>\n      <td>500.0</td>\n    </tr>\n    <tr>\n      <th>2</th>\n      <td>1.0</td>\n      <td>1.0</td>\n      <td>4.0</td>\n      <td>6.0</td>\n      <td>1.0</td>\n      <td>8.0</td>\n      <td>179.0</td>\n      <td>1.0</td>\n      <td>1.0</td>\n      <td>1.0</td>\n      <td>1.0</td>\n      <td>1.0</td>\n      <td>-1.0</td>\n      <td>500.0</td>\n    </tr>\n    <tr>\n      <th>3</th>\n      <td>1.0</td>\n      <td>1.0</td>\n      <td>5.0</td>\n      <td>6.0</td>\n      <td>1.0</td>\n      <td>11.0</td>\n      <td>215.0</td>\n      <td>1.0</td>\n      <td>1.0</td>\n      <td>1.0</td>\n      <td>1.0</td>\n      <td>1.0</td>\n      <td>-1.0</td>\n      <td>500.0</td>\n    </tr>\n    <tr>\n      <th>4</th>\n      <td>1.0</td>\n      <td>1.0</td>\n      <td>6.0</td>\n      <td>6.0</td>\n      <td>1.0</td>\n      <td>29.0</td>\n      <td>200.0</td>\n      <td>2.0</td>\n      <td>1.0</td>\n      <td>1.0</td>\n      <td>2.0</td>\n      <td>1.0</td>\n      <td>-1.0</td>\n      <td>500.0</td>\n    </tr>\n    <tr>\n      <th>5</th>\n      <td>1.0</td>\n      <td>1.0</td>\n      <td>7.0</td>\n      <td>6.0</td>\n      <td>1.0</td>\n      <td>26.0</td>\n      <td>228.0</td>\n      <td>2.0</td>\n      <td>2.0</td>\n      <td>1.0</td>\n      <td>1.0</td>\n      <td>1.0</td>\n      <td>1.0</td>\n      <td>500.0</td>\n    </tr>\n    <tr>\n      <th>6</th>\n      <td>1.0</td>\n      <td>1.0</td>\n      <td>8.0</td>\n      <td>0.0</td>\n      <td>1.0</td>\n      <td>26.0</td>\n      <td>183.0</td>\n      <td>2.0</td>\n      <td>2.0</td>\n      <td>1.0</td>\n      <td>1.0</td>\n      <td>1.0</td>\n      <td>1.0</td>\n      <td>500.0</td>\n    </tr>\n    <tr>\n      <th>7</th>\n      <td>1.0</td>\n      <td>1.0</td>\n      <td>9.0</td>\n      <td>0.0</td>\n      <td>1.0</td>\n      <td>2.0</td>\n      <td>172.0</td>\n      <td>1.0</td>\n      <td>1.0</td>\n      <td>1.0</td>\n      <td>1.0</td>\n      <td>1.0</td>\n      <td>1.0</td>\n      <td>500.0</td>\n    </tr>\n    <tr>\n      <th>8</th>\n      <td>1.0</td>\n      <td>1.0</td>\n      <td>10.0</td>\n      <td>6.0</td>\n      <td>1.0</td>\n      <td>9.0</td>\n      <td>198.0</td>\n      <td>1.0</td>\n      <td>1.0</td>\n      <td>1.0</td>\n      <td>1.0</td>\n      <td>1.0</td>\n      <td>-1.0</td>\n      <td>500.0</td>\n    </tr>\n    <tr>\n      <th>9</th>\n      <td>1.0</td>\n      <td>1.0</td>\n      <td>11.0</td>\n      <td>0.0</td>\n      <td>1.0</td>\n      <td>30.0</td>\n      <td>193.0</td>\n      <td>2.0</td>\n      <td>1.0</td>\n      <td>1.0</td>\n      <td>2.0</td>\n      <td>1.0</td>\n      <td>-1.0</td>\n      <td>500.0</td>\n    </tr>\n    <tr>\n      <th>10</th>\n      <td>1.0</td>\n      <td>1.0</td>\n      <td>12.0</td>\n      <td>0.0</td>\n      <td>1.0</td>\n      <td>32.0</td>\n      <td>187.0</td>\n      <td>2.0</td>\n      <td>1.0</td>\n      <td>1.0</td>\n      <td>2.0</td>\n      <td>1.0</td>\n      <td>1.0</td>\n      <td>500.0</td>\n    </tr>\n    <tr>\n      <th>11</th>\n      <td>1.0</td>\n      <td>1.0</td>\n      <td>13.0</td>\n      <td>6.0</td>\n      <td>1.0</td>\n      <td>4.0</td>\n      <td>186.0</td>\n      <td>1.0</td>\n      <td>1.0</td>\n      <td>1.0</td>\n      <td>1.0</td>\n      <td>1.0</td>\n      <td>1.0</td>\n      <td>500.0</td>\n    </tr>\n    <tr>\n      <th>12</th>\n      <td>1.0</td>\n      <td>1.0</td>\n      <td>14.0</td>\n      <td>6.0</td>\n      <td>1.0</td>\n      <td>27.0</td>\n      <td>189.0</td>\n      <td>2.0</td>\n      <td>2.0</td>\n      <td>1.0</td>\n      <td>1.0</td>\n      <td>1.0</td>\n      <td>1.0</td>\n      <td>500.0</td>\n    </tr>\n    <tr>\n      <th>13</th>\n      <td>1.0</td>\n      <td>1.0</td>\n      <td>15.0</td>\n      <td>6.0</td>\n      <td>1.0</td>\n      <td>22.0</td>\n      <td>185.0</td>\n      <td>2.0</td>\n      <td>2.0</td>\n      <td>1.0</td>\n      <td>1.0</td>\n      <td>1.0</td>\n      <td>-1.0</td>\n      <td>500.0</td>\n    </tr>\n    <tr>\n      <th>14</th>\n      <td>1.0</td>\n      <td>1.0</td>\n      <td>16.0</td>\n      <td>6.0</td>\n      <td>1.0</td>\n      <td>3.0</td>\n      <td>186.0</td>\n      <td>1.0</td>\n      <td>1.0</td>\n      <td>1.0</td>\n      <td>1.0</td>\n      <td>1.0</td>\n      <td>1.0</td>\n      <td>500.0</td>\n    </tr>\n    <tr>\n      <th>15</th>\n      <td>1.0</td>\n      <td>1.0</td>\n      <td>17.0</td>\n      <td>0.0</td>\n      <td>1.0</td>\n      <td>6.0</td>\n      <td>171.0</td>\n      <td>1.0</td>\n      <td>1.0</td>\n      <td>1.0</td>\n      <td>1.0</td>\n      <td>1.0</td>\n      <td>1.0</td>\n      <td>500.0</td>\n    </tr>\n    <tr>\n      <th>16</th>\n      <td>1.0</td>\n      <td>1.0</td>\n      <td>18.0</td>\n      <td>6.0</td>\n      <td>1.0</td>\n      <td>18.0</td>\n      <td>176.0</td>\n      <td>2.0</td>\n      <td>2.0</td>\n      <td>1.0</td>\n      <td>1.0</td>\n      <td>1.0</td>\n      <td>-1.0</td>\n      <td>500.0</td>\n    </tr>\n    <tr>\n      <th>17</th>\n      <td>1.0</td>\n      <td>1.0</td>\n      <td>19.0</td>\n      <td>0.0</td>\n      <td>1.0</td>\n      <td>20.0</td>\n      <td>195.0</td>\n      <td>2.0</td>\n      <td>2.0</td>\n      <td>1.0</td>\n      <td>1.0</td>\n      <td>1.0</td>\n      <td>-1.0</td>\n      <td>500.0</td>\n    </tr>\n    <tr>\n      <th>18</th>\n      <td>1.0</td>\n      <td>1.0</td>\n      <td>20.0</td>\n      <td>6.0</td>\n      <td>1.0</td>\n      <td>29.0</td>\n      <td>186.0</td>\n      <td>2.0</td>\n      <td>1.0</td>\n      <td>1.0</td>\n      <td>2.0</td>\n      <td>1.0</td>\n      <td>-1.0</td>\n      <td>500.0</td>\n    </tr>\n    <tr>\n      <th>19</th>\n      <td>1.0</td>\n      <td>1.0</td>\n      <td>22.0</td>\n      <td>6.0</td>\n      <td>1.0</td>\n      <td>18.0</td>\n      <td>188.0</td>\n      <td>2.0</td>\n      <td>2.0</td>\n      <td>1.0</td>\n      <td>1.0</td>\n      <td>1.0</td>\n      <td>-1.0</td>\n      <td>500.0</td>\n    </tr>\n  </tbody>\n</table>\n</div>"
     },
     "metadata": {}
    }
   ],
   "source": [
    "print('Loading d500 behavioural data...')\n",
    "d500Data = loadmat(filename)\n",
    "\n",
    "colNamesBehav = ['MonkeyNum','SessNum','NeuronNum','NewNeuronNum','TrialNum','TrialOutcome','Block','Condition','ReactionTime','TotalNumNeuronsSession','1stStim','2ndStim','Expectation','Actual','Active','Right/Left','Nothing1','TaskNum','Nothing2','Nothing3']\n",
    "\n",
    "d500BehavData = pd.DataFrame(d500Data['behavData'], columns=colNamesBehav)\n",
    "d500BehavData.drop(['NeuronNum','NewNeuronNum','TotalNumNeuronsSession','Nothing1','Nothing2','Nothing3'], axis=1, inplace=True)\n",
    "display(d500BehavData.head(20))"
   ]
  },
  {
   "cell_type": "code",
   "execution_count": null,
   "metadata": {},
   "outputs": [],
   "source": [
    "import seaborn as sns\n",
    "import matplotlib.pyplot as plt\n",
    "\n",
    "d500BehavData.groupby('Expectation').hist('ReactionTime', bins=50, figsize=(10, 5))\n",
    "plt.show()\n",
    "\n"
   ]
  },
  {
   "cell_type": "code",
   "execution_count": 3,
   "metadata": {},
   "outputs": [
    {
     "output_type": "execute_result",
     "data": {
      "text/plain": "         MonkeyNum      SessNum     TrialNum  TrialOutcome        Block  \\\ncount  6139.000000  6139.000000  6139.000000   6139.000000  6139.000000   \nmean      1.464082    13.340772   239.705327      1.784655     3.267144   \nstd       0.498749     7.506303   177.384352      2.743021     1.691500   \nmin       1.000000     1.000000     1.000000      0.000000     1.000000   \n25%       1.000000     7.000000    97.000000      0.000000     2.000000   \n50%       1.000000    14.000000   205.000000      0.000000     3.000000   \n75%       2.000000    20.000000   345.000000      6.000000     5.000000   \nmax       2.000000    26.000000   850.000000      6.000000     6.000000   \n\n         Condition  ReactionTime     1stStim      2ndStim  Expectation  \\\ncount  6139.000000   6139.000000  6139.00000  6139.000000  6139.000000   \nmean     89.110279    203.265190     1.49943     1.504480     1.993647   \nstd      54.977771     93.315174     0.50004     0.500021     0.822337   \nmin       1.000000     19.000000     1.00000     1.000000     1.000000   \n25%      42.000000    172.000000     1.00000     1.000000     1.000000   \n50%      85.000000    192.000000     1.00000     2.000000     2.000000   \n75%     136.000000    221.000000     2.00000     2.000000     3.000000   \nmax     192.000000    787.000000     2.00000     2.000000     3.000000   \n\n            Actual       Active   Right/Left  TaskNum  \ncount  6139.000000  6139.000000  6139.000000   6139.0  \nmean      1.507412     0.575501    -0.005701    500.0  \nstd       0.499986     0.494307     1.000065      0.0  \nmin       1.000000     0.000000    -1.000000    500.0  \n25%       1.000000     0.000000    -1.000000    500.0  \n50%       2.000000     1.000000    -1.000000    500.0  \n75%       2.000000     1.000000     1.000000    500.0  \nmax       2.000000     1.000000     1.000000    500.0  ",
      "text/html": "<div>\n<style scoped>\n    .dataframe tbody tr th:only-of-type {\n        vertical-align: middle;\n    }\n\n    .dataframe tbody tr th {\n        vertical-align: top;\n    }\n\n    .dataframe thead th {\n        text-align: right;\n    }\n</style>\n<table border=\"1\" class=\"dataframe\">\n  <thead>\n    <tr style=\"text-align: right;\">\n      <th></th>\n      <th>MonkeyNum</th>\n      <th>SessNum</th>\n      <th>TrialNum</th>\n      <th>TrialOutcome</th>\n      <th>Block</th>\n      <th>Condition</th>\n      <th>ReactionTime</th>\n      <th>1stStim</th>\n      <th>2ndStim</th>\n      <th>Expectation</th>\n      <th>Actual</th>\n      <th>Active</th>\n      <th>Right/Left</th>\n      <th>TaskNum</th>\n    </tr>\n  </thead>\n  <tbody>\n    <tr>\n      <th>count</th>\n      <td>6139.000000</td>\n      <td>6139.000000</td>\n      <td>6139.000000</td>\n      <td>6139.000000</td>\n      <td>6139.000000</td>\n      <td>6139.000000</td>\n      <td>6139.000000</td>\n      <td>6139.00000</td>\n      <td>6139.000000</td>\n      <td>6139.000000</td>\n      <td>6139.000000</td>\n      <td>6139.000000</td>\n      <td>6139.000000</td>\n      <td>6139.0</td>\n    </tr>\n    <tr>\n      <th>mean</th>\n      <td>1.464082</td>\n      <td>13.340772</td>\n      <td>239.705327</td>\n      <td>1.784655</td>\n      <td>3.267144</td>\n      <td>89.110279</td>\n      <td>203.265190</td>\n      <td>1.49943</td>\n      <td>1.504480</td>\n      <td>1.993647</td>\n      <td>1.507412</td>\n      <td>0.575501</td>\n      <td>-0.005701</td>\n      <td>500.0</td>\n    </tr>\n    <tr>\n      <th>std</th>\n      <td>0.498749</td>\n      <td>7.506303</td>\n      <td>177.384352</td>\n      <td>2.743021</td>\n      <td>1.691500</td>\n      <td>54.977771</td>\n      <td>93.315174</td>\n      <td>0.50004</td>\n      <td>0.500021</td>\n      <td>0.822337</td>\n      <td>0.499986</td>\n      <td>0.494307</td>\n      <td>1.000065</td>\n      <td>0.0</td>\n    </tr>\n    <tr>\n      <th>min</th>\n      <td>1.000000</td>\n      <td>1.000000</td>\n      <td>1.000000</td>\n      <td>0.000000</td>\n      <td>1.000000</td>\n      <td>1.000000</td>\n      <td>19.000000</td>\n      <td>1.00000</td>\n      <td>1.000000</td>\n      <td>1.000000</td>\n      <td>1.000000</td>\n      <td>0.000000</td>\n      <td>-1.000000</td>\n      <td>500.0</td>\n    </tr>\n    <tr>\n      <th>25%</th>\n      <td>1.000000</td>\n      <td>7.000000</td>\n      <td>97.000000</td>\n      <td>0.000000</td>\n      <td>2.000000</td>\n      <td>42.000000</td>\n      <td>172.000000</td>\n      <td>1.00000</td>\n      <td>1.000000</td>\n      <td>1.000000</td>\n      <td>1.000000</td>\n      <td>0.000000</td>\n      <td>-1.000000</td>\n      <td>500.0</td>\n    </tr>\n    <tr>\n      <th>50%</th>\n      <td>1.000000</td>\n      <td>14.000000</td>\n      <td>205.000000</td>\n      <td>0.000000</td>\n      <td>3.000000</td>\n      <td>85.000000</td>\n      <td>192.000000</td>\n      <td>1.00000</td>\n      <td>2.000000</td>\n      <td>2.000000</td>\n      <td>2.000000</td>\n      <td>1.000000</td>\n      <td>-1.000000</td>\n      <td>500.0</td>\n    </tr>\n    <tr>\n      <th>75%</th>\n      <td>2.000000</td>\n      <td>20.000000</td>\n      <td>345.000000</td>\n      <td>6.000000</td>\n      <td>5.000000</td>\n      <td>136.000000</td>\n      <td>221.000000</td>\n      <td>2.00000</td>\n      <td>2.000000</td>\n      <td>3.000000</td>\n      <td>2.000000</td>\n      <td>1.000000</td>\n      <td>1.000000</td>\n      <td>500.0</td>\n    </tr>\n    <tr>\n      <th>max</th>\n      <td>2.000000</td>\n      <td>26.000000</td>\n      <td>850.000000</td>\n      <td>6.000000</td>\n      <td>6.000000</td>\n      <td>192.000000</td>\n      <td>787.000000</td>\n      <td>2.00000</td>\n      <td>2.000000</td>\n      <td>3.000000</td>\n      <td>2.000000</td>\n      <td>1.000000</td>\n      <td>1.000000</td>\n      <td>500.0</td>\n    </tr>\n  </tbody>\n</table>\n</div>"
     },
     "metadata": {},
     "execution_count": 3
    }
   ],
   "source": [
    "d500BehavData.describe()"
   ]
  },
  {
   "cell_type": "markdown",
   "metadata": {},
   "source": [
    "### Next Steps:\n",
    "1. generate tb"
   ]
  },
  {
   "cell_type": "code",
   "execution_count": null,
   "metadata": {},
   "outputs": [],
   "source": []
  }
 ]
}